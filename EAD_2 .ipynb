{
 "cells": [
  {
   "cell_type": "markdown",
   "metadata": {},
   "source": [
    "### Data Description"
   ]
  },
  {
   "cell_type": "markdown",
   "metadata": {},
   "source": [
    "The data used in this work is credited to the work carried by P. Cortez, A. Cerdeira, F. Almeida, T. Matos and J. Reis. Modeling wine preferences by data mining from physicochemical properties. In Decision Support Systems, Elsevier, 47(4):547-553, 2009."
   ]
  },
  {
   "cell_type": "markdown",
   "metadata": {},
   "source": [
    "This data has to do with a red wine quality of a Portuguese \"Vinho Verde\" wine and comprises physicochemical properties of the wine. These characteristics were obtained from May/2004 to February/2007 when samples were tested at the official certification entity - CVRVV - whose goal is to improve the quality and marketing of vinho verde.\n",
    "It is composed by 1599 entries, each row being a diferent wine sample and each collumn being a physicochemical test performed on the sample, having a total of 11 tests performed. There is a 12th collumn, which corresponds to the final rating the wine received. Details on the data and its purposes can be found at [Cortez et al., 2009]."
   ]
  },
  {
   "cell_type": "markdown",
   "metadata": {},
   "source": [
    "The phisicochemical tests are:\n",
    "- Fixed acidity (mg/L): Acids are a major component of wine. Fixed acids are the acids that originally produced in the grape or later during the fermentation process by yeast, and therefore nonvolatile. These are tartaric, malic, citric (all produced by the grape) and succinic (by the yeast). Type: double;\n",
    "- Volatile acidity (mg/L): These are the acids formed as a byproduct of fermentation and are released as steam. It is almost only acetic acid but it can also be lactic, formic, butyric, and propionic acids. Type: double;\n",
    "- Citric acid (mg/L): An organic weak acid and therefore used to preserve the wine and stop microbial and mold activity. Can also be added to increase the acidity of flavor of the wine. Type: double;\n",
    "- Residual sugar (g/L): Residual sugars refer to the natural sugars present in grapes (glucose, fructose) that remain in the wine even after fermentation takes place. Type: double;\n",
    "- Chlorides (g/L): Chlorides are eletrolytes and can therefore help reducing wine acidity. Type: double;\n",
    "- Free sulfur dioxide (mg/L): Used to calculate the amount of sulfur dioxide used, it is the sulfur dioxide that did not bind with any other molecule. Type: double;\n",
    "- Total sulfur dioxide (mg/L): Sulfur dioxide is used throughout winemaking stages to prevent oxidation and microbial growth;\n",
    "- Density (g/mL): Mass per volume of wine, used to estimate the quality of the wine. Type: double;\n",
    "- pH: Measures the acidity of the wine in the pH scale. All wines lie on the acidic range (2.5-4.5). Type: double;\n",
    "- Sulphates (g/L): This should be sulfites and not sulphates, as the firsts are not used in wine making. Sulfites occurr naturaly in grapes and act as a preservative by inhibiting microbial growth. Type: double;\n",
    "- Alcohol (%): Percentage of alcohol per volume, the direct product of fermentation. Type: double;\n",
    "\n",
    "The last feature, corresponding to the rating, it was obtained by using at least three sensory assessors (using blind tastes) which attributed a rating from 0 (very bad) to 10 (excellent). The final rating is the average of the ratings. The type of this feature is therefore, int. "
   ]
  },
  {
   "cell_type": "code",
   "execution_count": 24,
   "metadata": {},
   "outputs": [
    {
     "name": "stderr",
     "output_type": "stream",
     "text": [
      "Warning message:\n",
      "\"package 'reshape' was built under R version 3.6.3\"\n",
      "Attaching package: 'reshape'\n",
      "\n",
      "The following objects are masked from 'package:tidyr':\n",
      "\n",
      "    expand, smiths\n",
      "\n"
     ]
    }
   ],
   "source": [
    "library(e1071)\n",
    "library(ggplot2)\n",
    "library(purrr)\n",
    "library(tidyr)\n",
    "library(reshape)"
   ]
  },
  {
   "cell_type": "code",
   "execution_count": 3,
   "metadata": {},
   "outputs": [],
   "source": [
    "data = read.csv('winequality-red.csv')"
   ]
  },
  {
   "cell_type": "code",
   "execution_count": 15,
   "metadata": {
    "scrolled": true
   },
   "outputs": [
    {
     "data": {
      "text/html": [
       "<table>\n",
       "<caption>A data.frame: 6 × 12</caption>\n",
       "<thead>\n",
       "\t<tr><th></th><th scope=col>fixed.acidity</th><th scope=col>volatile.acidity</th><th scope=col>citric.acid</th><th scope=col>residual.sugar</th><th scope=col>chlorides</th><th scope=col>free.sulfur.dioxide</th><th scope=col>total.sulfur.dioxide</th><th scope=col>density</th><th scope=col>pH</th><th scope=col>sulphates</th><th scope=col>alcohol</th><th scope=col>quality</th></tr>\n",
       "\t<tr><th></th><th scope=col>&lt;dbl&gt;</th><th scope=col>&lt;dbl&gt;</th><th scope=col>&lt;dbl&gt;</th><th scope=col>&lt;dbl&gt;</th><th scope=col>&lt;dbl&gt;</th><th scope=col>&lt;dbl&gt;</th><th scope=col>&lt;dbl&gt;</th><th scope=col>&lt;dbl&gt;</th><th scope=col>&lt;dbl&gt;</th><th scope=col>&lt;dbl&gt;</th><th scope=col>&lt;dbl&gt;</th><th scope=col>&lt;int&gt;</th></tr>\n",
       "</thead>\n",
       "<tbody>\n",
       "\t<tr><th scope=row>1</th><td> 7.4</td><td>0.70</td><td>0.00</td><td>1.9</td><td>0.076</td><td>11</td><td>34</td><td>0.9978</td><td>3.51</td><td>0.56</td><td>9.4</td><td>5</td></tr>\n",
       "\t<tr><th scope=row>2</th><td> 7.8</td><td>0.88</td><td>0.00</td><td>2.6</td><td>0.098</td><td>25</td><td>67</td><td>0.9968</td><td>3.20</td><td>0.68</td><td>9.8</td><td>5</td></tr>\n",
       "\t<tr><th scope=row>3</th><td> 7.8</td><td>0.76</td><td>0.04</td><td>2.3</td><td>0.092</td><td>15</td><td>54</td><td>0.9970</td><td>3.26</td><td>0.65</td><td>9.8</td><td>5</td></tr>\n",
       "\t<tr><th scope=row>4</th><td>11.2</td><td>0.28</td><td>0.56</td><td>1.9</td><td>0.075</td><td>17</td><td>60</td><td>0.9980</td><td>3.16</td><td>0.58</td><td>9.8</td><td>6</td></tr>\n",
       "\t<tr><th scope=row>5</th><td> 7.4</td><td>0.70</td><td>0.00</td><td>1.9</td><td>0.076</td><td>11</td><td>34</td><td>0.9978</td><td>3.51</td><td>0.56</td><td>9.4</td><td>5</td></tr>\n",
       "\t<tr><th scope=row>6</th><td> 7.4</td><td>0.66</td><td>0.00</td><td>1.8</td><td>0.075</td><td>13</td><td>40</td><td>0.9978</td><td>3.51</td><td>0.56</td><td>9.4</td><td>5</td></tr>\n",
       "</tbody>\n",
       "</table>\n"
      ],
      "text/latex": [
       "A data.frame: 6 × 12\n",
       "\\begin{tabular}{r|llllllllllll}\n",
       "  & fixed.acidity & volatile.acidity & citric.acid & residual.sugar & chlorides & free.sulfur.dioxide & total.sulfur.dioxide & density & pH & sulphates & alcohol & quality\\\\\n",
       "  & <dbl> & <dbl> & <dbl> & <dbl> & <dbl> & <dbl> & <dbl> & <dbl> & <dbl> & <dbl> & <dbl> & <int>\\\\\n",
       "\\hline\n",
       "\t1 &  7.4 & 0.70 & 0.00 & 1.9 & 0.076 & 11 & 34 & 0.9978 & 3.51 & 0.56 & 9.4 & 5\\\\\n",
       "\t2 &  7.8 & 0.88 & 0.00 & 2.6 & 0.098 & 25 & 67 & 0.9968 & 3.20 & 0.68 & 9.8 & 5\\\\\n",
       "\t3 &  7.8 & 0.76 & 0.04 & 2.3 & 0.092 & 15 & 54 & 0.9970 & 3.26 & 0.65 & 9.8 & 5\\\\\n",
       "\t4 & 11.2 & 0.28 & 0.56 & 1.9 & 0.075 & 17 & 60 & 0.9980 & 3.16 & 0.58 & 9.8 & 6\\\\\n",
       "\t5 &  7.4 & 0.70 & 0.00 & 1.9 & 0.076 & 11 & 34 & 0.9978 & 3.51 & 0.56 & 9.4 & 5\\\\\n",
       "\t6 &  7.4 & 0.66 & 0.00 & 1.8 & 0.075 & 13 & 40 & 0.9978 & 3.51 & 0.56 & 9.4 & 5\\\\\n",
       "\\end{tabular}\n"
      ],
      "text/markdown": [
       "\n",
       "A data.frame: 6 × 12\n",
       "\n",
       "| <!--/--> | fixed.acidity &lt;dbl&gt; | volatile.acidity &lt;dbl&gt; | citric.acid &lt;dbl&gt; | residual.sugar &lt;dbl&gt; | chlorides &lt;dbl&gt; | free.sulfur.dioxide &lt;dbl&gt; | total.sulfur.dioxide &lt;dbl&gt; | density &lt;dbl&gt; | pH &lt;dbl&gt; | sulphates &lt;dbl&gt; | alcohol &lt;dbl&gt; | quality &lt;int&gt; |\n",
       "|---|---|---|---|---|---|---|---|---|---|---|---|---|\n",
       "| 1 |  7.4 | 0.70 | 0.00 | 1.9 | 0.076 | 11 | 34 | 0.9978 | 3.51 | 0.56 | 9.4 | 5 |\n",
       "| 2 |  7.8 | 0.88 | 0.00 | 2.6 | 0.098 | 25 | 67 | 0.9968 | 3.20 | 0.68 | 9.8 | 5 |\n",
       "| 3 |  7.8 | 0.76 | 0.04 | 2.3 | 0.092 | 15 | 54 | 0.9970 | 3.26 | 0.65 | 9.8 | 5 |\n",
       "| 4 | 11.2 | 0.28 | 0.56 | 1.9 | 0.075 | 17 | 60 | 0.9980 | 3.16 | 0.58 | 9.8 | 6 |\n",
       "| 5 |  7.4 | 0.70 | 0.00 | 1.9 | 0.076 | 11 | 34 | 0.9978 | 3.51 | 0.56 | 9.4 | 5 |\n",
       "| 6 |  7.4 | 0.66 | 0.00 | 1.8 | 0.075 | 13 | 40 | 0.9978 | 3.51 | 0.56 | 9.4 | 5 |\n",
       "\n"
      ],
      "text/plain": [
       "  fixed.acidity volatile.acidity citric.acid residual.sugar chlorides\n",
       "1  7.4          0.70             0.00        1.9            0.076    \n",
       "2  7.8          0.88             0.00        2.6            0.098    \n",
       "3  7.8          0.76             0.04        2.3            0.092    \n",
       "4 11.2          0.28             0.56        1.9            0.075    \n",
       "5  7.4          0.70             0.00        1.9            0.076    \n",
       "6  7.4          0.66             0.00        1.8            0.075    \n",
       "  free.sulfur.dioxide total.sulfur.dioxide density pH   sulphates alcohol\n",
       "1 11                  34                   0.9978  3.51 0.56      9.4    \n",
       "2 25                  67                   0.9968  3.20 0.68      9.8    \n",
       "3 15                  54                   0.9970  3.26 0.65      9.8    \n",
       "4 17                  60                   0.9980  3.16 0.58      9.8    \n",
       "5 11                  34                   0.9978  3.51 0.56      9.4    \n",
       "6 13                  40                   0.9978  3.51 0.56      9.4    \n",
       "  quality\n",
       "1 5      \n",
       "2 5      \n",
       "3 5      \n",
       "4 6      \n",
       "5 5      \n",
       "6 5      "
      ]
     },
     "metadata": {},
     "output_type": "display_data"
    }
   ],
   "source": [
    "head(data)"
   ]
  },
  {
   "cell_type": "markdown",
   "metadata": {},
   "source": [
    "## Univariate analysis  "
   ]
  },
  {
   "cell_type": "markdown",
   "metadata": {},
   "source": [
    "### Descriptive statistics "
   ]
  },
  {
   "cell_type": "markdown",
   "metadata": {},
   "source": [
    "Descriptive statistics include measures of central tendency like mean and median and measures of variability like variance, minimum and maximum of variables, kurtosis and skewness."
   ]
  },
  {
   "cell_type": "markdown",
   "metadata": {},
   "source": [
    "Mean:"
   ]
  },
  {
   "cell_type": "code",
   "execution_count": 5,
   "metadata": {},
   "outputs": [
    {
     "data": {
      "text/html": [
       "<style>\n",
       ".dl-inline {width: auto; margin:0; padding: 0}\n",
       ".dl-inline>dt, .dl-inline>dd {float: none; width: auto; display: inline-block}\n",
       ".dl-inline>dt::after {content: \":\\0020\"; padding-right: .5ex}\n",
       ".dl-inline>dt:not(:first-of-type) {padding-left: .5ex}\n",
       "</style><dl class=dl-inline><dt>fixed.acidity</dt><dd>8.31963727329581</dd><dt>volatile.acidity</dt><dd>0.527820512820513</dd><dt>citric.acid</dt><dd>0.270975609756098</dd><dt>residual.sugar</dt><dd>2.53880550343965</dd><dt>chlorides</dt><dd>0.0874665415884928</dd><dt>free.sulfur.dioxide</dt><dd>15.8749218261413</dd><dt>total.sulfur.dioxide</dt><dd>46.4677923702314</dd><dt>density</dt><dd>0.996746679174484</dd><dt>pH</dt><dd>3.31111319574734</dd><dt>sulphates</dt><dd>0.658148843026892</dd><dt>alcohol</dt><dd>10.4229831144465</dd><dt>quality</dt><dd>5.63602251407129</dd></dl>\n"
      ],
      "text/latex": [
       "\\begin{description*}\n",
       "\\item[fixed.acidity] 8.31963727329581\n",
       "\\item[volatile.acidity] 0.527820512820513\n",
       "\\item[citric.acid] 0.270975609756098\n",
       "\\item[residual.sugar] 2.53880550343965\n",
       "\\item[chlorides] 0.0874665415884928\n",
       "\\item[free.sulfur.dioxide] 15.8749218261413\n",
       "\\item[total.sulfur.dioxide] 46.4677923702314\n",
       "\\item[density] 0.996746679174484\n",
       "\\item[pH] 3.31111319574734\n",
       "\\item[sulphates] 0.658148843026892\n",
       "\\item[alcohol] 10.4229831144465\n",
       "\\item[quality] 5.63602251407129\n",
       "\\end{description*}\n"
      ],
      "text/markdown": [
       "fixed.acidity\n",
       ":   8.31963727329581volatile.acidity\n",
       ":   0.527820512820513citric.acid\n",
       ":   0.270975609756098residual.sugar\n",
       ":   2.53880550343965chlorides\n",
       ":   0.0874665415884928free.sulfur.dioxide\n",
       ":   15.8749218261413total.sulfur.dioxide\n",
       ":   46.4677923702314density\n",
       ":   0.996746679174484pH\n",
       ":   3.31111319574734sulphates\n",
       ":   0.658148843026892alcohol\n",
       ":   10.4229831144465quality\n",
       ":   5.63602251407129\n",
       "\n"
      ],
      "text/plain": [
       "       fixed.acidity     volatile.acidity          citric.acid \n",
       "          8.31963727           0.52782051           0.27097561 \n",
       "      residual.sugar            chlorides  free.sulfur.dioxide \n",
       "          2.53880550           0.08746654          15.87492183 \n",
       "total.sulfur.dioxide              density                   pH \n",
       "         46.46779237           0.99674668           3.31111320 \n",
       "           sulphates              alcohol              quality \n",
       "          0.65814884          10.42298311           5.63602251 "
      ]
     },
     "metadata": {},
     "output_type": "display_data"
    }
   ],
   "source": [
    "colMeans(data)"
   ]
  },
  {
   "cell_type": "markdown",
   "metadata": {},
   "source": [
    "Median:"
   ]
  },
  {
   "cell_type": "code",
   "execution_count": 7,
   "metadata": {},
   "outputs": [
    {
     "data": {
      "text/html": [
       "<style>\n",
       ".dl-inline {width: auto; margin:0; padding: 0}\n",
       ".dl-inline>dt, .dl-inline>dd {float: none; width: auto; display: inline-block}\n",
       ".dl-inline>dt::after {content: \":\\0020\"; padding-right: .5ex}\n",
       ".dl-inline>dt:not(:first-of-type) {padding-left: .5ex}\n",
       "</style><dl class=dl-inline><dt>fixed.acidity</dt><dd>7.9</dd><dt>volatile.acidity</dt><dd>0.52</dd><dt>citric.acid</dt><dd>0.26</dd><dt>residual.sugar</dt><dd>2.2</dd><dt>chlorides</dt><dd>0.079</dd><dt>free.sulfur.dioxide</dt><dd>14</dd><dt>total.sulfur.dioxide</dt><dd>38</dd><dt>density</dt><dd>0.99675</dd><dt>pH</dt><dd>3.31</dd><dt>sulphates</dt><dd>0.62</dd><dt>alcohol</dt><dd>10.2</dd><dt>quality</dt><dd>6</dd></dl>\n"
      ],
      "text/latex": [
       "\\begin{description*}\n",
       "\\item[fixed.acidity] 7.9\n",
       "\\item[volatile.acidity] 0.52\n",
       "\\item[citric.acid] 0.26\n",
       "\\item[residual.sugar] 2.2\n",
       "\\item[chlorides] 0.079\n",
       "\\item[free.sulfur.dioxide] 14\n",
       "\\item[total.sulfur.dioxide] 38\n",
       "\\item[density] 0.99675\n",
       "\\item[pH] 3.31\n",
       "\\item[sulphates] 0.62\n",
       "\\item[alcohol] 10.2\n",
       "\\item[quality] 6\n",
       "\\end{description*}\n"
      ],
      "text/markdown": [
       "fixed.acidity\n",
       ":   7.9volatile.acidity\n",
       ":   0.52citric.acid\n",
       ":   0.26residual.sugar\n",
       ":   2.2chlorides\n",
       ":   0.079free.sulfur.dioxide\n",
       ":   14total.sulfur.dioxide\n",
       ":   38density\n",
       ":   0.99675pH\n",
       ":   3.31sulphates\n",
       ":   0.62alcohol\n",
       ":   10.2quality\n",
       ":   6\n",
       "\n"
      ],
      "text/plain": [
       "       fixed.acidity     volatile.acidity          citric.acid \n",
       "             7.90000              0.52000              0.26000 \n",
       "      residual.sugar            chlorides  free.sulfur.dioxide \n",
       "             2.20000              0.07900             14.00000 \n",
       "total.sulfur.dioxide              density                   pH \n",
       "            38.00000              0.99675              3.31000 \n",
       "           sulphates              alcohol              quality \n",
       "             0.62000             10.20000              6.00000 "
      ]
     },
     "metadata": {},
     "output_type": "display_data"
    }
   ],
   "source": [
    "sapply(data, median)"
   ]
  },
  {
   "cell_type": "markdown",
   "metadata": {},
   "source": [
    "Standard deviation:"
   ]
  },
  {
   "cell_type": "code",
   "execution_count": 8,
   "metadata": {},
   "outputs": [
    {
     "data": {
      "text/html": [
       "<style>\n",
       ".dl-inline {width: auto; margin:0; padding: 0}\n",
       ".dl-inline>dt, .dl-inline>dd {float: none; width: auto; display: inline-block}\n",
       ".dl-inline>dt::after {content: \":\\0020\"; padding-right: .5ex}\n",
       ".dl-inline>dt:not(:first-of-type) {padding-left: .5ex}\n",
       "</style><dl class=dl-inline><dt>fixed.acidity</dt><dd>1.7410963181277</dd><dt>volatile.acidity</dt><dd>0.179059704153535</dd><dt>citric.acid</dt><dd>0.194801137405319</dd><dt>residual.sugar</dt><dd>1.40992805950728</dd><dt>chlorides</dt><dd>0.0470653020100901</dd><dt>free.sulfur.dioxide</dt><dd>10.4601569698097</dd><dt>total.sulfur.dioxide</dt><dd>32.8953244782991</dd><dt>density</dt><dd>0.00188733395384256</dd><dt>pH</dt><dd>0.154386464903543</dd><dt>sulphates</dt><dd>0.16950697959011</dd><dt>alcohol</dt><dd>1.06566758184739</dd><dt>quality</dt><dd>0.807569439734705</dd></dl>\n"
      ],
      "text/latex": [
       "\\begin{description*}\n",
       "\\item[fixed.acidity] 1.7410963181277\n",
       "\\item[volatile.acidity] 0.179059704153535\n",
       "\\item[citric.acid] 0.194801137405319\n",
       "\\item[residual.sugar] 1.40992805950728\n",
       "\\item[chlorides] 0.0470653020100901\n",
       "\\item[free.sulfur.dioxide] 10.4601569698097\n",
       "\\item[total.sulfur.dioxide] 32.8953244782991\n",
       "\\item[density] 0.00188733395384256\n",
       "\\item[pH] 0.154386464903543\n",
       "\\item[sulphates] 0.16950697959011\n",
       "\\item[alcohol] 1.06566758184739\n",
       "\\item[quality] 0.807569439734705\n",
       "\\end{description*}\n"
      ],
      "text/markdown": [
       "fixed.acidity\n",
       ":   1.7410963181277volatile.acidity\n",
       ":   0.179059704153535citric.acid\n",
       ":   0.194801137405319residual.sugar\n",
       ":   1.40992805950728chlorides\n",
       ":   0.0470653020100901free.sulfur.dioxide\n",
       ":   10.4601569698097total.sulfur.dioxide\n",
       ":   32.8953244782991density\n",
       ":   0.00188733395384256pH\n",
       ":   0.154386464903543sulphates\n",
       ":   0.16950697959011alcohol\n",
       ":   1.06566758184739quality\n",
       ":   0.807569439734705\n",
       "\n"
      ],
      "text/plain": [
       "       fixed.acidity     volatile.acidity          citric.acid \n",
       "         1.741096318          0.179059704          0.194801137 \n",
       "      residual.sugar            chlorides  free.sulfur.dioxide \n",
       "         1.409928060          0.047065302         10.460156970 \n",
       "total.sulfur.dioxide              density                   pH \n",
       "        32.895324478          0.001887334          0.154386465 \n",
       "           sulphates              alcohol              quality \n",
       "         0.169506980          1.065667582          0.807569440 "
      ]
     },
     "metadata": {},
     "output_type": "display_data"
    }
   ],
   "source": [
    "sapply(data, sd)"
   ]
  },
  {
   "cell_type": "markdown",
   "metadata": {},
   "source": [
    "Min and Max of every variable:"
   ]
  },
  {
   "cell_type": "code",
   "execution_count": 9,
   "metadata": {},
   "outputs": [
    {
     "data": {
      "text/html": [
       "<table>\n",
       "<caption>A matrix: 2 × 12 of type dbl</caption>\n",
       "<thead>\n",
       "\t<tr><th scope=col>fixed.acidity</th><th scope=col>volatile.acidity</th><th scope=col>citric.acid</th><th scope=col>residual.sugar</th><th scope=col>chlorides</th><th scope=col>free.sulfur.dioxide</th><th scope=col>total.sulfur.dioxide</th><th scope=col>density</th><th scope=col>pH</th><th scope=col>sulphates</th><th scope=col>alcohol</th><th scope=col>quality</th></tr>\n",
       "</thead>\n",
       "<tbody>\n",
       "\t<tr><td> 4.6</td><td>0.12</td><td>0</td><td> 0.9</td><td>0.012</td><td> 1</td><td>  6</td><td>0.99007</td><td>2.74</td><td>0.33</td><td> 8.4</td><td>3</td></tr>\n",
       "\t<tr><td>15.9</td><td>1.58</td><td>1</td><td>15.5</td><td>0.611</td><td>72</td><td>289</td><td>1.00369</td><td>4.01</td><td>2.00</td><td>14.9</td><td>8</td></tr>\n",
       "</tbody>\n",
       "</table>\n"
      ],
      "text/latex": [
       "A matrix: 2 × 12 of type dbl\n",
       "\\begin{tabular}{llllllllllll}\n",
       " fixed.acidity & volatile.acidity & citric.acid & residual.sugar & chlorides & free.sulfur.dioxide & total.sulfur.dioxide & density & pH & sulphates & alcohol & quality\\\\\n",
       "\\hline\n",
       "\t  4.6 & 0.12 & 0 &  0.9 & 0.012 &  1 &   6 & 0.99007 & 2.74 & 0.33 &  8.4 & 3\\\\\n",
       "\t 15.9 & 1.58 & 1 & 15.5 & 0.611 & 72 & 289 & 1.00369 & 4.01 & 2.00 & 14.9 & 8\\\\\n",
       "\\end{tabular}\n"
      ],
      "text/markdown": [
       "\n",
       "A matrix: 2 × 12 of type dbl\n",
       "\n",
       "| fixed.acidity | volatile.acidity | citric.acid | residual.sugar | chlorides | free.sulfur.dioxide | total.sulfur.dioxide | density | pH | sulphates | alcohol | quality |\n",
       "|---|---|---|---|---|---|---|---|---|---|---|---|\n",
       "|  4.6 | 0.12 | 0 |  0.9 | 0.012 |  1 |   6 | 0.99007 | 2.74 | 0.33 |  8.4 | 3 |\n",
       "| 15.9 | 1.58 | 1 | 15.5 | 0.611 | 72 | 289 | 1.00369 | 4.01 | 2.00 | 14.9 | 8 |\n",
       "\n"
      ],
      "text/plain": [
       "     fixed.acidity volatile.acidity citric.acid residual.sugar chlorides\n",
       "[1,]  4.6          0.12             0            0.9           0.012    \n",
       "[2,] 15.9          1.58             1           15.5           0.611    \n",
       "     free.sulfur.dioxide total.sulfur.dioxide density pH   sulphates alcohol\n",
       "[1,]  1                    6                  0.99007 2.74 0.33       8.4   \n",
       "[2,] 72                  289                  1.00369 4.01 2.00      14.9   \n",
       "     quality\n",
       "[1,] 3      \n",
       "[2,] 8      "
      ]
     },
     "metadata": {},
     "output_type": "display_data"
    }
   ],
   "source": [
    "sapply(data, range)"
   ]
  },
  {
   "cell_type": "markdown",
   "metadata": {},
   "source": [
    "Kurtosis:"
   ]
  },
  {
   "cell_type": "code",
   "execution_count": 12,
   "metadata": {},
   "outputs": [
    {
     "data": {
      "text/html": [
       "<style>\n",
       ".dl-inline {width: auto; margin:0; padding: 0}\n",
       ".dl-inline>dt, .dl-inline>dd {float: none; width: auto; display: inline-block}\n",
       ".dl-inline>dt::after {content: \":\\0020\"; padding-right: .5ex}\n",
       ".dl-inline>dt:not(:first-of-type) {padding-left: .5ex}\n",
       "</style><dl class=dl-inline><dt>fixed.acidity</dt><dd>1.11969865351337</dd><dt>volatile.acidity</dt><dd>1.2126892874226</dd><dt>citric.acid</dt><dd>-0.79304552533009</dd><dt>residual.sugar</dt><dd>28.4850199627432</dd><dt>chlorides</dt><dd>41.5259634938983</dd><dt>free.sulfur.dioxide</dt><dd>2.00722117644335</dd><dt>total.sulfur.dioxide</dt><dd>3.78567639781014</dd><dt>density</dt><dd>0.922500001404776</dd><dt>pH</dt><dd>0.795919120179298</dd><dt>sulphates</dt><dd>11.6615285220642</dd><dt>alcohol</dt><dd>0.191658559940043</dd><dt>quality</dt><dd>0.287914814100104</dd></dl>\n"
      ],
      "text/latex": [
       "\\begin{description*}\n",
       "\\item[fixed.acidity] 1.11969865351337\n",
       "\\item[volatile.acidity] 1.2126892874226\n",
       "\\item[citric.acid] -0.79304552533009\n",
       "\\item[residual.sugar] 28.4850199627432\n",
       "\\item[chlorides] 41.5259634938983\n",
       "\\item[free.sulfur.dioxide] 2.00722117644335\n",
       "\\item[total.sulfur.dioxide] 3.78567639781014\n",
       "\\item[density] 0.922500001404776\n",
       "\\item[pH] 0.795919120179298\n",
       "\\item[sulphates] 11.6615285220642\n",
       "\\item[alcohol] 0.191658559940043\n",
       "\\item[quality] 0.287914814100104\n",
       "\\end{description*}\n"
      ],
      "text/markdown": [
       "fixed.acidity\n",
       ":   1.11969865351337volatile.acidity\n",
       ":   1.2126892874226citric.acid\n",
       ":   -0.79304552533009residual.sugar\n",
       ":   28.4850199627432chlorides\n",
       ":   41.5259634938983free.sulfur.dioxide\n",
       ":   2.00722117644335total.sulfur.dioxide\n",
       ":   3.78567639781014density\n",
       ":   0.922500001404776pH\n",
       ":   0.795919120179298sulphates\n",
       ":   11.6615285220642alcohol\n",
       ":   0.191658559940043quality\n",
       ":   0.287914814100104\n",
       "\n"
      ],
      "text/plain": [
       "       fixed.acidity     volatile.acidity          citric.acid \n",
       "           1.1196987            1.2126893           -0.7930455 \n",
       "      residual.sugar            chlorides  free.sulfur.dioxide \n",
       "          28.4850200           41.5259635            2.0072212 \n",
       "total.sulfur.dioxide              density                   pH \n",
       "           3.7856764            0.9225000            0.7959191 \n",
       "           sulphates              alcohol              quality \n",
       "          11.6615285            0.1916586            0.2879148 "
      ]
     },
     "metadata": {},
     "output_type": "display_data"
    }
   ],
   "source": [
    "sapply(data, kurtosis)"
   ]
  },
  {
   "cell_type": "markdown",
   "metadata": {},
   "source": [
    "Skewness:"
   ]
  },
  {
   "cell_type": "code",
   "execution_count": 13,
   "metadata": {},
   "outputs": [
    {
     "data": {
      "text/html": [
       "<style>\n",
       ".dl-inline {width: auto; margin:0; padding: 0}\n",
       ".dl-inline>dt, .dl-inline>dd {float: none; width: auto; display: inline-block}\n",
       ".dl-inline>dt::after {content: \":\\0020\"; padding-right: .5ex}\n",
       ".dl-inline>dt:not(:first-of-type) {padding-left: .5ex}\n",
       "</style><dl class=dl-inline><dt>fixed.acidity</dt><dd>0.980908398729065</dd><dt>volatile.acidity</dt><dd>0.670333074134222</dd><dt>citric.acid</dt><dd>0.317740288553393</dd><dt>residual.sugar</dt><dd>4.53213992439674</dd><dt>chlorides</dt><dd>5.6696937046533</dd><dt>free.sulfur.dioxide</dt><dd>1.24822199144251</dd><dt>total.sulfur.dioxide</dt><dd>1.51268904485286</dd><dt>density</dt><dd>0.0711539707521185</dd><dt>pH</dt><dd>0.193320265943632</dd><dt>sulphates</dt><dd>2.42411764489109</dd><dt>alcohol</dt><dd>0.859214416825242</dd><dt>quality</dt><dd>0.217393112494184</dd></dl>\n"
      ],
      "text/latex": [
       "\\begin{description*}\n",
       "\\item[fixed.acidity] 0.980908398729065\n",
       "\\item[volatile.acidity] 0.670333074134222\n",
       "\\item[citric.acid] 0.317740288553393\n",
       "\\item[residual.sugar] 4.53213992439674\n",
       "\\item[chlorides] 5.6696937046533\n",
       "\\item[free.sulfur.dioxide] 1.24822199144251\n",
       "\\item[total.sulfur.dioxide] 1.51268904485286\n",
       "\\item[density] 0.0711539707521185\n",
       "\\item[pH] 0.193320265943632\n",
       "\\item[sulphates] 2.42411764489109\n",
       "\\item[alcohol] 0.859214416825242\n",
       "\\item[quality] 0.217393112494184\n",
       "\\end{description*}\n"
      ],
      "text/markdown": [
       "fixed.acidity\n",
       ":   0.980908398729065volatile.acidity\n",
       ":   0.670333074134222citric.acid\n",
       ":   0.317740288553393residual.sugar\n",
       ":   4.53213992439674chlorides\n",
       ":   5.6696937046533free.sulfur.dioxide\n",
       ":   1.24822199144251total.sulfur.dioxide\n",
       ":   1.51268904485286density\n",
       ":   0.0711539707521185pH\n",
       ":   0.193320265943632sulphates\n",
       ":   2.42411764489109alcohol\n",
       ":   0.859214416825242quality\n",
       ":   0.217393112494184\n",
       "\n"
      ],
      "text/plain": [
       "       fixed.acidity     volatile.acidity          citric.acid \n",
       "          0.98090840           0.67033307           0.31774029 \n",
       "      residual.sugar            chlorides  free.sulfur.dioxide \n",
       "          4.53213992           5.66969370           1.24822199 \n",
       "total.sulfur.dioxide              density                   pH \n",
       "          1.51268904           0.07115397           0.19332027 \n",
       "           sulphates              alcohol              quality \n",
       "          2.42411764           0.85921442           0.21739311 "
      ]
     },
     "metadata": {},
     "output_type": "display_data"
    }
   ],
   "source": [
    "sapply(data, skewness)"
   ]
  },
  {
   "cell_type": "markdown",
   "metadata": {},
   "source": [
    "alguns plots, ver se se mantém algo"
   ]
  },
  {
   "cell_type": "code",
   "execution_count": 19,
   "metadata": {},
   "outputs": [
    {
     "name": "stderr",
     "output_type": "stream",
     "text": [
      "`stat_bin()` using `bins = 30`. Pick better value with `binwidth`.\n"
     ]
    },
    {
     "data": {
      "image/png": "[encoded data removed]",
      "text/plain": [
       "plot without title"
      ]
     },
     "metadata": {},
     "output_type": "display_data"
    }
   ],
   "source": [
    "data %>%\n",
    "  gather() %>% \n",
    "  ggplot(aes(value)) +\n",
    "    facet_wrap(~ key, scales = \"free\") +\n",
    "    geom_histogram()"
   ]
  },
  {
   "cell_type": "code",
   "execution_count": 20,
   "metadata": {},
   "outputs": [
    {
     "data": {
      "image/png": "[encoded data removed]",
      "text/plain": [
       "plot without title"
      ]
     },
     "metadata": {},
     "output_type": "display_data"
    }
   ],
   "source": [
    "data %>%\n",
    "  gather() %>% \n",
    "  ggplot(aes(value)) +\n",
    "    facet_wrap(~ key, scales = \"free\") +\n",
    "    geom_density()"
   ]
  },
  {
   "cell_type": "code",
   "execution_count": 25,
   "metadata": {},
   "outputs": [
    {
     "name": "stderr",
     "output_type": "stream",
     "text": [
      "Using  as id variables\n"
     ]
    },
    {
     "data": {
      "image/png": "[encoded data removed]",
      "text/plain": [
       "plot without title"
      ]
     },
     "metadata": {},
     "output_type": "display_data"
    }
   ],
   "source": [
    "melt_data <- melt(data)\n",
    "    ggplot(melt_data, aes(factor(variable), value)) + geom_boxplot() + facet_wrap(~variable, scale=\"free\")"
   ]
  },
  {
   "cell_type": "code",
   "execution_count": null,
   "metadata": {},
   "outputs": [],
   "source": []
  }
 ],
 "metadata": {
  "kernelspec": {
   "display_name": "R",
   "language": "R",
   "name": "ir"
  },
  "language_info": {
   "codemirror_mode": "r",
   "file_extension": ".r",
   "mimetype": "text/x-r-source",
   "name": "R",
   "pygments_lexer": "r",
   "version": "3.6.1"
  }
 },
 "nbformat": 4,
 "nbformat_minor": 4
}
